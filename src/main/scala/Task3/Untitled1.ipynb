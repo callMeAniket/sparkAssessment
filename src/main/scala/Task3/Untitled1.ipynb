{
 "cells": [
  {
   "cell_type": "code",
   "execution_count": 1,
   "id": "8418674b-cb73-4818-ba48-abc2dc0567e4",
   "metadata": {
    "execution": {
     "iopub.execute_input": "2024-06-25T06:58:46.451174Z",
     "iopub.status.busy": "2024-06-25T06:58:46.450854Z",
     "iopub.status.idle": "2024-06-25T06:59:21.285944Z",
     "shell.execute_reply": "2024-06-25T06:59:21.285132Z",
     "shell.execute_reply.started": "2024-06-25T06:58:46.451144Z"
    }
   },
   "outputs": [
    {
     "data": {
      "application/vnd.jupyter.widget-view+json": {
       "model_id": "72349e2276794a68bcb02d6aaac3b04a",
       "version_major": 2,
       "version_minor": 0
      },
      "text/plain": [
       "VBox()"
      ]
     },
     "metadata": {},
     "output_type": "display_data"
    },
    {
     "name": "stdout",
     "output_type": "stream",
     "text": [
      "Starting Spark application\n"
     ]
    },
    {
     "data": {
      "text/html": [
       "<table>\n<tbody><tr><th>ID</th><th>YARN Application ID</th><th>Kind</th><th>State</th><th>Spark UI</th><th>Driver log</th><th>User</th><th>Current session?</th></tr><tr><td>2</td><td>application_1719295473865_0003</td><td>spark</td><td>idle</td><td><a target=\"_blank\" href=\"http://ip-172-31-22-44.ap-south-1.compute.internal:20888/proxy/application_1719295473865_0003/\" class=\"emr-proxy-link j-1OC5FXX04OIQK application_1719295473865_0003\" emr-resource=\"j-1OC5FXX04OIQK\n\" application-id=\"application_1719295473865_0003\">Link</a></td><td><a target=\"_blank\" href=\"http://ip-172-31-21-86.ap-south-1.compute.internal:8042/node/containerlogs/container_1719295473865_0003_01_000001/livy\">Link</a></td><td>None</td><td>✔</td></tr></tbody></table>"
      ],
      "text/plain": [
       "<IPython.core.display.HTML object>"
      ]
     },
     "metadata": {},
     "output_type": "display_data"
    },
    {
     "data": {
      "application/vnd.jupyter.widget-view+json": {
       "model_id": "",
       "version_major": 2,
       "version_minor": 0
      },
      "text/plain": [
       "FloatProgress(value=0.0, bar_style='info', description='Progress:', layout=Layout(height='25px', width='50%'),…"
      ]
     },
     "metadata": {},
     "output_type": "display_data"
    },
    {
     "name": "stdout",
     "output_type": "stream",
     "text": [
      "SparkSession available as 'spark'.\n"
     ]
    },
    {
     "data": {
      "application/vnd.jupyter.widget-view+json": {
       "model_id": "",
       "version_major": 2,
       "version_minor": 0
      },
      "text/plain": [
       "FloatProgress(value=0.0, bar_style='info', description='Progress:', layout=Layout(height='25px', width='50%'),…"
      ]
     },
     "metadata": {},
     "output_type": "display_data"
    },
    {
     "name": "stdout",
     "output_type": "stream",
     "text": [
      "res1: org.apache.spark.sql.SparkSession = org.apache.spark.sql.SparkSession@cef9ad\n"
     ]
    }
   ],
   "source": [
    "spark"
   ]
  },
  {
   "cell_type": "code",
   "execution_count": 2,
   "id": "2abe3e92-a9bb-4907-8a18-d1182687570c",
   "metadata": {
    "execution": {
     "iopub.execute_input": "2024-06-25T06:59:32.506799Z",
     "iopub.status.busy": "2024-06-25T06:59:32.506566Z",
     "iopub.status.idle": "2024-06-25T07:01:04.057799Z",
     "shell.execute_reply": "2024-06-25T07:01:04.057096Z",
     "shell.execute_reply.started": "2024-06-25T06:59:32.506773Z"
    },
    "tags": []
   },
   "outputs": [
    {
     "data": {
      "application/vnd.jupyter.widget-view+json": {
       "model_id": "25ecdf0a6bde4bf8b6514409ad7fd4e2",
       "version_major": 2,
       "version_minor": 0
      },
      "text/plain": [
       "VBox()"
      ]
     },
     "metadata": {},
     "output_type": "display_data"
    },
    {
     "data": {
      "application/vnd.jupyter.widget-view+json": {
       "model_id": "",
       "version_major": 2,
       "version_minor": 0
      },
      "text/plain": [
       "FloatProgress(value=0.0, bar_style='info', description='Progress:', layout=Layout(height='25px', width='50%'),…"
      ]
     },
     "metadata": {},
     "output_type": "display_data"
    },
    {
     "name": "stdout",
     "output_type": "stream",
     "text": [
      "df_csv: org.apache.spark.sql.DataFrame = [From Date: string, To Date: string ... 23 more fields]\n"
     ]
    }
   ],
   "source": [
    "val df_csv = spark.read.option(\"header\", \"true\").option(\"inferSchema\", \"true\").csv(\"s3://spark-final-project3/mandatorytask3/input/*.csv\")"
   ]
  },
  {
   "cell_type": "code",
   "execution_count": 3,
   "id": "83eb043d-08b8-45cb-8278-f69b61b7b566",
   "metadata": {
    "execution": {
     "iopub.execute_input": "2024-06-25T07:06:37.307328Z",
     "iopub.status.busy": "2024-06-25T07:06:37.307087Z",
     "iopub.status.idle": "2024-06-25T07:08:28.880979Z",
     "shell.execute_reply": "2024-06-25T07:08:28.880342Z",
     "shell.execute_reply.started": "2024-06-25T07:06:37.307299Z"
    }
   },
   "outputs": [
    {
     "data": {
      "application/vnd.jupyter.widget-view+json": {
       "model_id": "da0f30c072c54ac6a9741faab9060036",
       "version_major": 2,
       "version_minor": 0
      },
      "text/plain": [
       "VBox()"
      ]
     },
     "metadata": {},
     "output_type": "display_data"
    },
    {
     "data": {
      "application/vnd.jupyter.widget-view+json": {
       "model_id": "",
       "version_major": 2,
       "version_minor": 0
      },
      "text/plain": [
       "FloatProgress(value=0.0, bar_style='info', description='Progress:', layout=Layout(height='25px', width='50%'),…"
      ]
     },
     "metadata": {},
     "output_type": "display_data"
    }
   ],
   "source": [
    "df_csv.write.parquet(\"s3://spark-final-project3/mandatorytask3/output/TimeSeriesData/\")"
   ]
  },
  {
   "cell_type": "code",
   "execution_count": 4,
   "id": "e0ef3829-a09a-4e1b-af5d-10ff1cd24fe7",
   "metadata": {
    "execution": {
     "iopub.execute_input": "2024-06-25T07:24:34.227398Z",
     "iopub.status.busy": "2024-06-25T07:24:34.227177Z",
     "iopub.status.idle": "2024-06-25T07:24:41.501456Z",
     "shell.execute_reply": "2024-06-25T07:24:41.500851Z",
     "shell.execute_reply.started": "2024-06-25T07:24:34.227372Z"
    }
   },
   "outputs": [
    {
     "data": {
      "application/vnd.jupyter.widget-view+json": {
       "model_id": "a55640187a704e7b9b8383938732c804",
       "version_major": 2,
       "version_minor": 0
      },
      "text/plain": [
       "VBox()"
      ]
     },
     "metadata": {},
     "output_type": "display_data"
    },
    {
     "data": {
      "application/vnd.jupyter.widget-view+json": {
       "model_id": "",
       "version_major": 2,
       "version_minor": 0
      },
      "text/plain": [
       "FloatProgress(value=0.0, bar_style='info', description='Progress:', layout=Layout(height='25px', width='50%'),…"
      ]
     },
     "metadata": {},
     "output_type": "display_data"
    },
    {
     "name": "stdout",
     "output_type": "stream",
     "text": [
      "df_parquet: org.apache.spark.sql.DataFrame = [From Date: string, To Date: string ... 23 more fields]\n"
     ]
    }
   ],
   "source": [
    "val df_parquet = spark.read.option(\"header\",true).option(\"inferSchema\", true).parquet(\"s3://spark-final-project3/mandatorytask3/output/TimeSeriesData/\")"
   ]
  },
  {
   "cell_type": "code",
   "execution_count": 5,
   "id": "4a3c78a3-1080-457d-8f34-b4956c5cd238",
   "metadata": {
    "execution": {
     "iopub.execute_input": "2024-06-25T07:26:01.394121Z",
     "iopub.status.busy": "2024-06-25T07:26:01.393900Z",
     "iopub.status.idle": "2024-06-25T07:26:10.684904Z",
     "shell.execute_reply": "2024-06-25T07:26:10.684146Z",
     "shell.execute_reply.started": "2024-06-25T07:26:01.394095Z"
    },
    "tags": []
   },
   "outputs": [
    {
     "data": {
      "application/vnd.jupyter.widget-view+json": {
       "model_id": "d75fe7cdaa4a4d46884600fb7bbafd6a",
       "version_major": 2,
       "version_minor": 0
      },
      "text/plain": [
       "VBox()"
      ]
     },
     "metadata": {},
     "output_type": "display_data"
    },
    {
     "data": {
      "application/vnd.jupyter.widget-view+json": {
       "model_id": "",
       "version_major": 2,
       "version_minor": 0
      },
      "text/plain": [
       "FloatProgress(value=0.0, bar_style='info', description='Progress:', layout=Layout(height='25px', width='50%'),…"
      ]
     },
     "metadata": {},
     "output_type": "display_data"
    },
    {
     "name": "stdout",
     "output_type": "stream",
     "text": [
      "+-------------------+-------------------+-------------+------------+----------+-----------+---------+-----------+-----------+----------+-------------+---------------+---------------+-------------------+-----------------+----------------+---------------+------+--------+--------+----------+---------+---------+--------------+-------------+\n",
      "|          From Date|            To Date|PM2.5 (ug/m3)|PM10 (ug/m3)|NO (ug/m3)|NO2 (ug/m3)|NOx (ppb)|NH3 (ug/m3)|SO2 (ug/m3)|CO (mg/m3)|Ozone (ug/m3)|Benzene (ug/m3)|Toluene (ug/m3)|Eth-Benzene (ug/m3)|MP-Xylene (ug/m3)|O Xylene (ug/m3)|Temp (degree C)|RH (%)|WS (m/s)|WD (deg)|SR (W/mt2)|BP (mmHg)|VWS (m/s)|Xylene (ug/m3)|AT (degree C)|\n",
      "+-------------------+-------------------+-------------+------------+----------+-----------+---------+-----------+-----------+----------+-------------+---------------+---------------+-------------------+-----------------+----------------+---------------+------+--------+--------+----------+---------+---------+--------------+-------------+\n",
      "|2023-02-01 15:00:00|2023-02-01 16:00:00|         61.0|        95.0|       3.6|      19.33|     13.2|      28.47|       9.47|      0.61|        83.93|            0.0|           NULL|               NULL|             NULL|            NULL|          59.67|  2.93|   266.0|   24.67|      NULL|    22.87|      0.0|          NULL|         NULL|\n",
      "|2023-02-01 16:00:00|2023-02-01 17:00:00|        46.25|       86.25|      3.52|      24.45|    15.88|      31.98|       9.75|      0.94|         95.1|            0.0|           NULL|               NULL|             NULL|            NULL|           39.0|   2.6|  215.25|   25.25|      NULL|    22.92|      0.0|          NULL|         NULL|\n",
      "|2023-02-01 17:00:00|2023-02-01 18:00:00|         86.0|      160.25|      2.97|      38.83|    23.07|      42.65|      11.43|      1.45|        67.03|            0.0|           NULL|               NULL|             NULL|            NULL|          31.75|  1.88|   287.5|   27.75|      NULL|     22.4|      0.0|          NULL|         NULL|\n",
      "|2023-02-01 18:00:00|2023-02-01 19:00:00|        168.5|       279.0|      2.67|      60.45|     34.3|       44.1|      11.62|      1.49|        53.05|            0.0|           NULL|               NULL|             NULL|            NULL|           31.0|   1.5|  308.75|   30.75|      NULL|    21.73|      0.0|          NULL|         NULL|\n",
      "|2023-02-01 19:00:00|2023-02-01 20:00:00|         78.0|       162.0|      1.77|      50.28|     28.2|      41.73|      11.55|      1.27|        55.52|            0.0|           NULL|               NULL|             NULL|            NULL|           31.0|  1.85|   303.5|   31.75|      NULL|    21.23|      0.0|          NULL|         NULL|\n",
      "+-------------------+-------------------+-------------+------------+----------+-----------+---------+-----------+-----------+----------+-------------+---------------+---------------+-------------------+-----------------+----------------+---------------+------+--------+--------+----------+---------+---------+--------------+-------------+\n",
      "only showing top 5 rows\n",
      "\n"
     ]
    }
   ],
   "source": [
    "df_parquet.show(5)"
   ]
  },
  {
   "cell_type": "code",
   "execution_count": 6,
   "id": "11d6654b-bff6-4c09-ad96-0c2b2e1aa367",
   "metadata": {
    "execution": {
     "iopub.execute_input": "2024-06-25T07:26:24.471676Z",
     "iopub.status.busy": "2024-06-25T07:26:24.471433Z",
     "iopub.status.idle": "2024-06-25T07:26:25.225651Z",
     "shell.execute_reply": "2024-06-25T07:26:25.224993Z",
     "shell.execute_reply.started": "2024-06-25T07:26:24.471645Z"
    }
   },
   "outputs": [
    {
     "data": {
      "application/vnd.jupyter.widget-view+json": {
       "model_id": "5685a37d87ab46f3af9169d73cc28d46",
       "version_major": 2,
       "version_minor": 0
      },
      "text/plain": [
       "VBox()"
      ]
     },
     "metadata": {},
     "output_type": "display_data"
    },
    {
     "data": {
      "application/vnd.jupyter.widget-view+json": {
       "model_id": "",
       "version_major": 2,
       "version_minor": 0
      },
      "text/plain": [
       "FloatProgress(value=0.0, bar_style='info', description='Progress:', layout=Layout(height='25px', width='50%'),…"
      ]
     },
     "metadata": {},
     "output_type": "display_data"
    },
    {
     "name": "stdout",
     "output_type": "stream",
     "text": [
      "root\n",
      " |-- From Date: string (nullable = true)\n",
      " |-- To Date: string (nullable = true)\n",
      " |-- PM2.5 (ug/m3): string (nullable = true)\n",
      " |-- PM10 (ug/m3): string (nullable = true)\n",
      " |-- NO (ug/m3): string (nullable = true)\n",
      " |-- NO2 (ug/m3): string (nullable = true)\n",
      " |-- NOx (ppb): string (nullable = true)\n",
      " |-- NH3 (ug/m3): string (nullable = true)\n",
      " |-- SO2 (ug/m3): string (nullable = true)\n",
      " |-- CO (mg/m3): string (nullable = true)\n",
      " |-- Ozone (ug/m3): string (nullable = true)\n",
      " |-- Benzene (ug/m3): string (nullable = true)\n",
      " |-- Toluene (ug/m3): string (nullable = true)\n",
      " |-- Eth-Benzene (ug/m3): string (nullable = true)\n",
      " |-- MP-Xylene (ug/m3): string (nullable = true)\n",
      " |-- O Xylene (ug/m3): string (nullable = true)\n",
      " |-- Temp (degree C): string (nullable = true)\n",
      " |-- RH (%): string (nullable = true)\n",
      " |-- WS (m/s): string (nullable = true)\n",
      " |-- WD (deg): string (nullable = true)\n",
      " |-- SR (W/mt2): string (nullable = true)\n",
      " |-- BP (mmHg): string (nullable = true)\n",
      " |-- VWS (m/s): string (nullable = true)\n",
      " |-- Xylene (ug/m3): string (nullable = true)\n",
      " |-- AT (degree C): string (nullable = true)\n",
      "\n"
     ]
    }
   ],
   "source": [
    "df_parquet.printSchema()"
   ]
  },
  {
   "cell_type": "code",
   "execution_count": 7,
   "id": "a7fb8d3d-ca30-41f8-a039-5a548c3cbe9a",
   "metadata": {
    "execution": {
     "iopub.execute_input": "2024-06-25T07:30:37.172879Z",
     "iopub.status.busy": "2024-06-25T07:30:37.172515Z",
     "iopub.status.idle": "2024-06-25T07:30:37.937719Z",
     "shell.execute_reply": "2024-06-25T07:30:37.937019Z",
     "shell.execute_reply.started": "2024-06-25T07:30:37.172832Z"
    }
   },
   "outputs": [
    {
     "data": {
      "application/vnd.jupyter.widget-view+json": {
       "model_id": "735efa891a8c4d29a469f97378052fe9",
       "version_major": 2,
       "version_minor": 0
      },
      "text/plain": [
       "VBox()"
      ]
     },
     "metadata": {},
     "output_type": "display_data"
    },
    {
     "data": {
      "application/vnd.jupyter.widget-view+json": {
       "model_id": "",
       "version_major": 2,
       "version_minor": 0
      },
      "text/plain": [
       "FloatProgress(value=0.0, bar_style='info', description='Progress:', layout=Layout(height='25px', width='50%'),…"
      ]
     },
     "metadata": {},
     "output_type": "display_data"
    },
    {
     "name": "stderr",
     "output_type": "stream",
     "text": [
      "An error was encountered:\n",
      "org.apache.spark.sql.catalyst.ExtendedAnalysisException: [UNRESOLVED_COLUMN.WITH_SUGGESTION] A column or function parameter with name `PM2`.`5 (ug/m3)` cannot be resolved. Did you mean one of the following? [`PM2.5 (ug/m3)`, `PM10 (ug/m3)`, `NH3 (ug/m3)`, `NO (ug/m3)`, `NO2 (ug/m3)`].;\n",
      "'Aggregate [avg('PM2.5 (ug/m3)) AS avg_PM2.5#270, max(PM10 (ug/m3)#120) AS max_PM10#272, min(NO (ug/m3)#121) AS min_NO#274, sum(cast(NO2 (ug/m3)#122 as double)) AS sum_NO2#276, count(SO2 (ug/m3)#125) AS count_SO2#279L, avg(cast(CO (mg/m3)#126 as double)) AS avg_CO#281, max(Ozone (ug/m3)#127) AS max_Ozone#283, min(Benzene (ug/m3)#128) AS min_Benzene#285, sum(cast(Toluene (ug/m3)#129 as double)) AS sum_Toluene#287, count(Temp (degree C)#133) AS count_Temp#290L]\n",
      "+- Relation [From Date#117,To Date#118,PM2.5 (ug/m3)#119,PM10 (ug/m3)#120,NO (ug/m3)#121,NO2 (ug/m3)#122,NOx (ppb)#123,NH3 (ug/m3)#124,SO2 (ug/m3)#125,CO (mg/m3)#126,Ozone (ug/m3)#127,Benzene (ug/m3)#128,Toluene (ug/m3)#129,Eth-Benzene (ug/m3)#130,MP-Xylene (ug/m3)#131,O Xylene (ug/m3)#132,Temp (degree C)#133,RH (%)#134,WS (m/s)#135,WD (deg)#136,SR (W/mt2)#137,BP (mmHg)#138,VWS (m/s)#139,Xylene (ug/m3)#140,AT (degree C)#141] parquet\n",
      "\n",
      "  at org.apache.spark.sql.errors.QueryCompilationErrors$.unresolvedAttributeError(QueryCompilationErrors.scala:307)\n",
      "  at org.apache.spark.sql.catalyst.analysis.CheckAnalysis.org$apache$spark$sql$catalyst$analysis$CheckAnalysis$$failUnresolvedAttribute(CheckAnalysis.scala:147)\n",
      "  at org.apache.spark.sql.catalyst.analysis.CheckAnalysis.$anonfun$checkAnalysis0$6(CheckAnalysis.scala:266)\n",
      "  at org.apache.spark.sql.catalyst.analysis.CheckAnalysis.$anonfun$checkAnalysis0$6$adapted(CheckAnalysis.scala:264)\n",
      "  at org.apache.spark.sql.catalyst.trees.TreeNode.foreachUp(TreeNode.scala:287)\n",
      "  at org.apache.spark.sql.catalyst.trees.TreeNode.$anonfun$foreachUp$1(TreeNode.scala:286)\n",
      "  at org.apache.spark.sql.catalyst.trees.TreeNode.$anonfun$foreachUp$1$adapted(TreeNode.scala:286)\n",
      "  at scala.collection.Iterator.foreach(Iterator.scala:943)\n",
      "  at scala.collection.Iterator.foreach$(Iterator.scala:943)\n",
      "  at scala.collection.AbstractIterator.foreach(Iterator.scala:1431)\n",
      "  at scala.collection.IterableLike.foreach(IterableLike.scala:74)\n",
      "  at scala.collection.IterableLike.foreach$(IterableLike.scala:73)\n",
      "  at scala.collection.AbstractIterable.foreach(Iterable.scala:56)\n",
      "  at org.apache.spark.sql.catalyst.trees.TreeNode.foreachUp(TreeNode.scala:286)\n",
      "  at org.apache.spark.sql.catalyst.trees.TreeNode.$anonfun$foreachUp$1(TreeNode.scala:286)\n",
      "  at org.apache.spark.sql.catalyst.trees.TreeNode.$anonfun$foreachUp$1$adapted(TreeNode.scala:286)\n",
      "  at scala.collection.immutable.List.foreach(List.scala:431)\n",
      "  at org.apache.spark.sql.catalyst.trees.TreeNode.foreachUp(TreeNode.scala:286)\n",
      "  at org.apache.spark.sql.catalyst.trees.TreeNode.$anonfun$foreachUp$1(TreeNode.scala:286)\n",
      "  at org.apache.spark.sql.catalyst.trees.TreeNode.$anonfun$foreachUp$1$adapted(TreeNode.scala:286)\n",
      "  at scala.collection.Iterator.foreach(Iterator.scala:943)\n",
      "  at scala.collection.Iterator.foreach$(Iterator.scala:943)\n",
      "  at scala.collection.AbstractIterator.foreach(Iterator.scala:1431)\n",
      "  at scala.collection.IterableLike.foreach(IterableLike.scala:74)\n",
      "  at scala.collection.IterableLike.foreach$(IterableLike.scala:73)\n",
      "  at scala.collection.AbstractIterable.foreach(Iterable.scala:56)\n",
      "  at org.apache.spark.sql.catalyst.trees.TreeNode.foreachUp(TreeNode.scala:286)\n",
      "  at org.apache.spark.sql.catalyst.analysis.CheckAnalysis.$anonfun$checkAnalysis0$5(CheckAnalysis.scala:264)\n",
      "  at org.apache.spark.sql.catalyst.analysis.CheckAnalysis.$anonfun$checkAnalysis0$5$adapted(CheckAnalysis.scala:264)\n",
      "  at scala.collection.immutable.List.foreach(List.scala:431)\n",
      "  at org.apache.spark.sql.catalyst.analysis.CheckAnalysis.$anonfun$checkAnalysis0$2(CheckAnalysis.scala:264)\n",
      "  at org.apache.spark.sql.catalyst.analysis.CheckAnalysis.$anonfun$checkAnalysis0$2$adapted(CheckAnalysis.scala:182)\n",
      "  at org.apache.spark.sql.catalyst.trees.TreeNode.foreachUp(TreeNode.scala:287)\n",
      "  at org.apache.spark.sql.catalyst.analysis.CheckAnalysis.checkAnalysis0(CheckAnalysis.scala:182)\n",
      "  at org.apache.spark.sql.catalyst.analysis.CheckAnalysis.checkAnalysis0$(CheckAnalysis.scala:164)\n",
      "  at org.apache.spark.sql.catalyst.analysis.Analyzer.checkAnalysis0(Analyzer.scala:219)\n",
      "  at org.apache.spark.sql.catalyst.analysis.CheckAnalysis.checkAnalysis(CheckAnalysis.scala:160)\n",
      "  at org.apache.spark.sql.catalyst.analysis.CheckAnalysis.checkAnalysis$(CheckAnalysis.scala:150)\n",
      "  at org.apache.spark.sql.catalyst.analysis.Analyzer.checkAnalysis(Analyzer.scala:219)\n",
      "  at org.apache.spark.sql.catalyst.analysis.Analyzer.$anonfun$executeAndCheck$1(Analyzer.scala:245)\n",
      "  at org.apache.spark.sql.catalyst.plans.logical.AnalysisHelper$.markInAnalyzer(AnalysisHelper.scala:330)\n",
      "  at org.apache.spark.sql.catalyst.analysis.Analyzer.executeAndCheck(Analyzer.scala:242)\n",
      "  at org.apache.spark.sql.execution.QueryExecution.$anonfun$analyzed$1(QueryExecution.scala:80)\n",
      "  at org.apache.spark.sql.catalyst.QueryPlanningTracker.measurePhase(QueryPlanningTracker.scala:219)\n",
      "  at org.apache.spark.sql.execution.QueryExecution.$anonfun$executePhase$2(QueryExecution.scala:256)\n",
      "  at org.apache.spark.sql.execution.QueryExecution$.withInternalError(QueryExecution.scala:625)\n",
      "  at org.apache.spark.sql.execution.QueryExecution.$anonfun$executePhase$1(QueryExecution.scala:256)\n",
      "  at org.apache.spark.sql.SparkSession.withActive(SparkSession.scala:900)\n",
      "  at org.apache.spark.sql.execution.QueryExecution.executePhase(QueryExecution.scala:255)\n",
      "  at org.apache.spark.sql.execution.QueryExecution.analyzed$lzycompute(QueryExecution.scala:80)\n",
      "  at org.apache.spark.sql.execution.QueryExecution.analyzed(QueryExecution.scala:77)\n",
      "  at org.apache.spark.sql.execution.QueryExecution.assertAnalyzed(QueryExecution.scala:69)\n",
      "  at org.apache.spark.sql.Dataset$.$anonfun$ofRows$1(Dataset.scala:93)\n",
      "  at org.apache.spark.sql.SparkSession.withActive(SparkSession.scala:900)\n",
      "  at org.apache.spark.sql.Dataset$.ofRows(Dataset.scala:91)\n",
      "  at org.apache.spark.sql.RelationalGroupedDataset.toDF(RelationalGroupedDataset.scala:75)\n",
      "  at org.apache.spark.sql.RelationalGroupedDataset.agg(RelationalGroupedDataset.scala:244)\n",
      "  at org.apache.spark.sql.Dataset.agg(Dataset.scala:2019)\n",
      "  ... 51 elided\n",
      "\n"
     ]
    }
   ],
   "source": [
    "val aggregatedDF = df_parquet.agg(\n",
    "    avg(\"PM2.5 (ug/m3)\").alias(\"avg_PM2.5\"),\n",
    "    max(\"PM10 (ug/m3)\").alias(\"max_PM10\"),\n",
    "    min(\"NO (ug/m3)\").alias(\"min_NO\"),\n",
    "    sum(\"NO2 (ug/m3)\").alias(\"sum_NO2\"),\n",
    "    count(\"SO2 (ug/m3)\").alias(\"count_SO2\"),\n",
    "    avg(\"CO (mg/m3)\").alias(\"avg_CO\"),\n",
    "    max(\"Ozone (ug/m3)\").alias(\"max_Ozone\"),\n",
    "    min(\"Benzene (ug/m3)\").alias(\"min_Benzene\"),\n",
    "    sum(\"Toluene (ug/m3)\").alias(\"sum_Toluene\"),\n",
    "    count(\"Temp (degree C)\").alias(\"count_Temp\")\n",
    "  )"
   ]
  },
  {
   "cell_type": "code",
   "execution_count": 8,
   "id": "9d4ef086-3203-4d32-a04a-09a448e011ca",
   "metadata": {
    "execution": {
     "iopub.execute_input": "2024-06-25T07:34:23.671270Z",
     "iopub.status.busy": "2024-06-25T07:34:23.671044Z",
     "iopub.status.idle": "2024-06-25T07:34:24.422252Z",
     "shell.execute_reply": "2024-06-25T07:34:24.421552Z",
     "shell.execute_reply.started": "2024-06-25T07:34:23.671243Z"
    }
   },
   "outputs": [
    {
     "data": {
      "application/vnd.jupyter.widget-view+json": {
       "model_id": "6a2fec927b2b4e4caa2e14d675ca5990",
       "version_major": 2,
       "version_minor": 0
      },
      "text/plain": [
       "VBox()"
      ]
     },
     "metadata": {},
     "output_type": "display_data"
    },
    {
     "data": {
      "application/vnd.jupyter.widget-view+json": {
       "model_id": "",
       "version_major": 2,
       "version_minor": 0
      },
      "text/plain": [
       "FloatProgress(value=0.0, bar_style='info', description='Progress:', layout=Layout(height='25px', width='50%'),…"
      ]
     },
     "metadata": {},
     "output_type": "display_data"
    },
    {
     "name": "stdout",
     "output_type": "stream",
     "text": [
      "aggregatedDF: org.apache.spark.sql.DataFrame = [max_PM10: string, min_NO: string ... 7 more fields]\n"
     ]
    }
   ],
   "source": [
    "val aggregatedDF = df_parquet.agg(\n",
    "    max(\"PM10 (ug/m3)\").alias(\"max_PM10\"),\n",
    "    min(\"NO (ug/m3)\").alias(\"min_NO\"),\n",
    "    sum(\"NO2 (ug/m3)\").alias(\"sum_NO2\"),\n",
    "    count(\"SO2 (ug/m3)\").alias(\"count_SO2\"),\n",
    "    avg(\"CO (mg/m3)\").alias(\"avg_CO\"),\n",
    "    max(\"Ozone (ug/m3)\").alias(\"max_Ozone\"),\n",
    "    min(\"Benzene (ug/m3)\").alias(\"min_Benzene\"),\n",
    "    sum(\"Toluene (ug/m3)\").alias(\"sum_Toluene\"),\n",
    "    count(\"Temp (degree C)\").alias(\"count_Temp\")\n",
    "  )"
   ]
  },
  {
   "cell_type": "code",
   "execution_count": 9,
   "id": "22bebe6d-b357-43df-ac2e-664c75d5be70",
   "metadata": {
    "execution": {
     "iopub.execute_input": "2024-06-25T07:34:46.616577Z",
     "iopub.status.busy": "2024-06-25T07:34:46.616340Z",
     "iopub.status.idle": "2024-06-25T07:35:07.928654Z",
     "shell.execute_reply": "2024-06-25T07:35:07.928021Z",
     "shell.execute_reply.started": "2024-06-25T07:34:46.616550Z"
    },
    "tags": []
   },
   "outputs": [
    {
     "data": {
      "application/vnd.jupyter.widget-view+json": {
       "model_id": "6c6a931be00741f2b4b1cde3171837cc",
       "version_major": 2,
       "version_minor": 0
      },
      "text/plain": [
       "VBox()"
      ]
     },
     "metadata": {},
     "output_type": "display_data"
    },
    {
     "data": {
      "application/vnd.jupyter.widget-view+json": {
       "model_id": "",
       "version_major": 2,
       "version_minor": 0
      },
      "text/plain": [
       "FloatProgress(value=0.0, bar_style='info', description='Progress:', layout=Layout(height='25px', width='50%'),…"
      ]
     },
     "metadata": {},
     "output_type": "display_data"
    },
    {
     "name": "stdout",
     "output_type": "stream",
     "text": [
      "+--------+------+--------------------+---------+-----------------+---------+-----------+--------------------+----------+\n",
      "|max_PM10|min_NO|             sum_NO2|count_SO2|           avg_CO|max_Ozone|min_Benzene|         sum_Toluene|count_Temp|\n",
      "+--------+------+--------------------+---------+-----------------+---------+-----------+--------------------+----------+\n",
      "|   WBPCB|  0.01|2.6364193684000874E8|  9107611|3.616810925289765|    99.99|        0.0|1.2270164220999603E8|   7387037|\n",
      "+--------+------+--------------------+---------+-----------------+---------+-----------+--------------------+----------+\n",
      "\n"
     ]
    }
   ],
   "source": [
    "aggregatedDF.show()"
   ]
  },
  {
   "cell_type": "code",
   "execution_count": 12,
   "id": "9fc01bf7-3db1-4bdd-ae08-1f18cdb186b4",
   "metadata": {
    "execution": {
     "iopub.execute_input": "2024-06-25T07:52:12.378077Z",
     "iopub.status.busy": "2024-06-25T07:52:12.377850Z",
     "iopub.status.idle": "2024-06-25T07:52:13.129357Z",
     "shell.execute_reply": "2024-06-25T07:52:13.128590Z",
     "shell.execute_reply.started": "2024-06-25T07:52:12.378051Z"
    },
    "tags": []
   },
   "outputs": [
    {
     "data": {
      "application/vnd.jupyter.widget-view+json": {
       "model_id": "41d653ff8470448ea5e62e58af211e48",
       "version_major": 2,
       "version_minor": 0
      },
      "text/plain": [
       "VBox()"
      ]
     },
     "metadata": {},
     "output_type": "display_data"
    },
    {
     "data": {
      "application/vnd.jupyter.widget-view+json": {
       "model_id": "",
       "version_major": 2,
       "version_minor": 0
      },
      "text/plain": [
       "FloatProgress(value=0.0, bar_style='info', description='Progress:', layout=Layout(height='25px', width='50%'),…"
      ]
     },
     "metadata": {},
     "output_type": "display_data"
    },
    {
     "name": "stdout",
     "output_type": "stream",
     "text": [
      "mysqlUrl: String = jdbc:mysql://34.28.97.182:3306/aniket\n",
      "mysqlUser: String = root\n",
      "mysqlPassword: String = root\n"
     ]
    }
   ],
   "source": [
    "val mysqlUrl = \"jdbc:mysql://34.28.97.182:3306/aniket\"\n",
    "val mysqlUser = \"root\"\n",
    "val mysqlPassword = \"root\""
   ]
  },
  {
   "cell_type": "code",
   "execution_count": 14,
   "id": "67020511-7e0c-478b-882f-3476b895dfbf",
   "metadata": {
    "execution": {
     "iopub.execute_input": "2024-06-25T08:02:35.201252Z",
     "iopub.status.busy": "2024-06-25T08:02:35.201034Z",
     "iopub.status.idle": "2024-06-25T08:03:00.527034Z",
     "shell.execute_reply": "2024-06-25T08:03:00.526374Z",
     "shell.execute_reply.started": "2024-06-25T08:02:35.201226Z"
    },
    "tags": []
   },
   "outputs": [
    {
     "data": {
      "application/vnd.jupyter.widget-view+json": {
       "model_id": "83c3b8444df24781983da3b8ba3e7833",
       "version_major": 2,
       "version_minor": 0
      },
      "text/plain": [
       "VBox()"
      ]
     },
     "metadata": {},
     "output_type": "display_data"
    },
    {
     "data": {
      "application/vnd.jupyter.widget-view+json": {
       "model_id": "",
       "version_major": 2,
       "version_minor": 0
      },
      "text/plain": [
       "FloatProgress(value=0.0, bar_style='info', description='Progress:', layout=Layout(height='25px', width='50%'),…"
      ]
     },
     "metadata": {},
     "output_type": "display_data"
    }
   ],
   "source": [
    "aggregatedDF.write.format(\"jdbc\").options(\n",
    "Map(\n",
    "\"url\" -> mysqlUrl,\n",
    "\"user\" -> mysqlUser,\n",
    "\"password\" -> mysqlPassword,\n",
    "\"dbtable\" -> \"aggregated_metrics\"\n",
    ")).mode(\"append\").save()"
   ]
  },
  {
   "cell_type": "code",
   "execution_count": null,
   "id": "68d15f9e-afe4-4737-a1eb-1dd156eac77f",
   "metadata": {},
   "outputs": [],
   "source": []
  }
 ],
 "metadata": {
  "kernelspec": {
   "display_name": "Spark",
   "language": "scala",
   "name": "sparkkernel"
  },
  "language_info": {
   "codemirror_mode": "text/x-scala",
   "file_extension": ".sc",
   "mimetype": "text/x-scala",
   "name": "scala",
   "pygments_lexer": "scala"
  }
 },
 "nbformat": 4,
 "nbformat_minor": 5
}
